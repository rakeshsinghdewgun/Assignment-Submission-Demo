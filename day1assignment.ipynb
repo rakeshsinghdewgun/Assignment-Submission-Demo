{
 "cells": [
  {
   "cell_type": "code",
   "execution_count": null,
   "id": "18a04414",
   "metadata": {},
   "outputs": [],
   "source": [
    "1) After running the following code, what does the variable bacon contain?\n",
    "\n",
    "bacon = 22\n",
    "\n",
    "bacon + 1"
   ]
  },
  {
   "cell_type": "code",
   "execution_count": null,
   "id": "b801bf1a",
   "metadata": {},
   "outputs": [],
   "source": [
    "bacon contains 23"
   ]
  },
  {
   "cell_type": "code",
   "execution_count": 1,
   "id": "494b9678",
   "metadata": {},
   "outputs": [
    {
     "data": {
      "text/plain": [
       "23"
      ]
     },
     "execution_count": 1,
     "metadata": {},
     "output_type": "execute_result"
    }
   ],
   "source": [
    "bacon = 22\n",
    "\n",
    "bacon + 1"
   ]
  },
  {
   "cell_type": "code",
   "execution_count": null,
   "id": "e39952f2",
   "metadata": {},
   "outputs": [],
   "source": [
    "2) What should the values of the following two terms be?\n",
    "\n",
    "'spam' + 'spamspam'\n",
    "\n",
    "'spam' * 3"
   ]
  },
  {
   "cell_type": "code",
   "execution_count": null,
   "id": "8ae5fb23",
   "metadata": {},
   "outputs": [],
   "source": [
    "'spam' + 'spamspam' would concatenate the two strings and result in 'spamspamspam'.\n",
    "'spam' * 3 results in printing 'spam' 3 times i,e. 'spamspamspam'."
   ]
  },
  {
   "cell_type": "code",
   "execution_count": 2,
   "id": "2f4fbcb6",
   "metadata": {},
   "outputs": [
    {
     "data": {
      "text/plain": [
       "'spamspamspam'"
      ]
     },
     "execution_count": 2,
     "metadata": {},
     "output_type": "execute_result"
    }
   ],
   "source": [
    "'spam' + 'spamspam'"
   ]
  },
  {
   "cell_type": "code",
   "execution_count": 3,
   "id": "ff700ba1",
   "metadata": {},
   "outputs": [
    {
     "data": {
      "text/plain": [
       "'spamspamspam'"
      ]
     },
     "execution_count": 3,
     "metadata": {},
     "output_type": "execute_result"
    }
   ],
   "source": [
    "'spam' * 3"
   ]
  },
  {
   "cell_type": "code",
   "execution_count": null,
   "id": "323c9a21",
   "metadata": {},
   "outputs": [],
   "source": [
    "3) How can you tell the difference between break and continue?"
   ]
  },
  {
   "cell_type": "code",
   "execution_count": null,
   "id": "66a30126",
   "metadata": {},
   "outputs": [],
   "source": [
    "The main difference between both the statements is that when break keyword comes, \n",
    "it terminates the execution of the current loop and passes the control over the next loop or main body, \n",
    "whereas when continue keyword is encountered, it skips the current iteration and \n",
    "executes the very next iteration in the loop."
   ]
  },
  {
   "cell_type": "code",
   "execution_count": null,
   "id": "ca7bdefa",
   "metadata": {},
   "outputs": [],
   "source": [
    "4) In a for loop, what is the difference between range(10), range(0, 10), and range(0, 10, 1)?"
   ]
  },
  {
   "cell_type": "code",
   "execution_count": null,
   "id": "6e23fddd",
   "metadata": {},
   "outputs": [],
   "source": [
    "range(10), range(0, 10) and range(0, 10, 1) all three are basically the same and return the same set of values from 0 to 9 i,e.\n",
    "1, 2, 3 ..... to 9. However the basic difference is in the number of arguments we've provided."
   ]
  },
  {
   "cell_type": "code",
   "execution_count": 4,
   "id": "bf769a85",
   "metadata": {},
   "outputs": [
    {
     "name": "stdout",
     "output_type": "stream",
     "text": [
      "0\n",
      "1\n",
      "2\n",
      "3\n",
      "4\n",
      "5\n",
      "6\n",
      "7\n",
      "8\n",
      "9\n"
     ]
    }
   ],
   "source": [
    "for num in range(10):\n",
    "    print(num)"
   ]
  },
  {
   "cell_type": "code",
   "execution_count": 5,
   "id": "3d769681",
   "metadata": {},
   "outputs": [
    {
     "name": "stdout",
     "output_type": "stream",
     "text": [
      "0\n",
      "1\n",
      "2\n",
      "3\n",
      "4\n",
      "5\n",
      "6\n",
      "7\n",
      "8\n",
      "9\n"
     ]
    }
   ],
   "source": [
    "for num in range(0, 10):\n",
    "    print(num)"
   ]
  },
  {
   "cell_type": "code",
   "execution_count": 6,
   "id": "837bed6f",
   "metadata": {},
   "outputs": [
    {
     "name": "stdout",
     "output_type": "stream",
     "text": [
      "0\n",
      "1\n",
      "2\n",
      "3\n",
      "4\n",
      "5\n",
      "6\n",
      "7\n",
      "8\n",
      "9\n"
     ]
    }
   ],
   "source": [
    "for num in range(0, 10, 1):\n",
    "    print(num)"
   ]
  },
  {
   "cell_type": "code",
   "execution_count": null,
   "id": "585f65ab",
   "metadata": {},
   "outputs": [],
   "source": [
    "5) Using a for loop, write a short programme that prints the numbers 1 to 10 Then, using a while loop, \n",
    "create an identical programme that prints the numbers 1 to 10."
   ]
  },
  {
   "cell_type": "code",
   "execution_count": 9,
   "id": "3e14228b",
   "metadata": {},
   "outputs": [
    {
     "name": "stdout",
     "output_type": "stream",
     "text": [
      "1\n",
      "2\n",
      "3\n",
      "4\n",
      "5\n",
      "6\n",
      "7\n",
      "8\n",
      "9\n",
      "10\n"
     ]
    }
   ],
   "source": [
    "# using for loop:\n",
    "\n",
    "for num in range(1, 11, 1):\n",
    "    print(num)"
   ]
  },
  {
   "cell_type": "code",
   "execution_count": 10,
   "id": "10166f11",
   "metadata": {},
   "outputs": [
    {
     "name": "stdout",
     "output_type": "stream",
     "text": [
      "1\n",
      "2\n",
      "3\n",
      "4\n",
      "5\n",
      "6\n",
      "7\n",
      "8\n",
      "9\n",
      "10\n"
     ]
    }
   ],
   "source": [
    "# using a while loop:\n",
    "num = 1\n",
    "while num <= 10:\n",
    "    print(num)\n",
    "    num += 1"
   ]
  },
  {
   "cell_type": "code",
   "execution_count": null,
   "id": "f514269e",
   "metadata": {},
   "outputs": [],
   "source": [
    "6) Given a number x, determine whether the given number is Armstrong number or not.\n",
    "\n",
    "Input : 153\n",
    "\n",
    "Output : Yes\n",
    "\n",
    "153 is an Armstrong number.\n",
    "\n",
    "1 * 1 * 1 + 5 * 5 * 5 + 3 * 3 * 3 = 153"
   ]
  },
  {
   "cell_type": "code",
   "execution_count": 3,
   "id": "014202d8",
   "metadata": {},
   "outputs": [],
   "source": [
    "def armstrong(num):\n",
    "    num_copy = num\n",
    "    sum_of_digits = 0\n",
    "    while num > 0:\n",
    "        rem = num % 10\n",
    "        sum_of_digits += rem ** 3\n",
    "        num = num // 10\n",
    "\n",
    "    if sum_of_digits == num_copy:\n",
    "        print(f\"{num_copy} is an Armstrong Number\")\n",
    "    else:\n",
    "        print(f\"{num_copy} is not an Armstrong Number\")\n"
   ]
  },
  {
   "cell_type": "code",
   "execution_count": 4,
   "id": "3964315d",
   "metadata": {},
   "outputs": [
    {
     "name": "stdout",
     "output_type": "stream",
     "text": [
      "153 is an Armstrong Number\n"
     ]
    }
   ],
   "source": [
    "armstrong(153)\n"
   ]
  },
  {
   "cell_type": "code",
   "execution_count": null,
   "id": "2d55a1b2",
   "metadata": {},
   "outputs": [],
   "source": [
    "7) Program to find Sum of squares of first n natural numbers."
   ]
  },
  {
   "cell_type": "code",
   "execution_count": 5,
   "id": "0521e227",
   "metadata": {},
   "outputs": [],
   "source": [
    "def sum_of_squares(num):\n",
    "    sum_of_nums = 0\n",
    "    for n in range(1, num + 1):\n",
    "        sum_of_nums += n ** 2\n",
    "        \n",
    "    return sum_of_nums"
   ]
  },
  {
   "cell_type": "code",
   "execution_count": 7,
   "id": "b32bdad9",
   "metadata": {},
   "outputs": [],
   "source": [
    "result = sum_of_squares(5)"
   ]
  },
  {
   "cell_type": "code",
   "execution_count": 9,
   "id": "e9532742",
   "metadata": {},
   "outputs": [
    {
     "name": "stdout",
     "output_type": "stream",
     "text": [
      "55\n"
     ]
    }
   ],
   "source": [
    "print(result)\n"
   ]
  },
  {
   "cell_type": "code",
   "execution_count": null,
   "id": "5e9f8794",
   "metadata": {},
   "outputs": [],
   "source": [
    "8) Program to Reverse words in a given String in Python."
   ]
  },
  {
   "cell_type": "code",
   "execution_count": 3,
   "id": "18772c95",
   "metadata": {},
   "outputs": [],
   "source": [
    "def reverse_string(s):\n",
    "  str = \"\"\n",
    "  for char in s:\n",
    "    str = char + str\n",
    "  return str"
   ]
  },
  {
   "cell_type": "code",
   "execution_count": 4,
   "id": "92d02c54",
   "metadata": {},
   "outputs": [
    {
     "data": {
      "text/plain": [
       "'olleH'"
      ]
     },
     "execution_count": 4,
     "metadata": {},
     "output_type": "execute_result"
    }
   ],
   "source": [
    "reverse_string(\"Hello\")"
   ]
  },
  {
   "cell_type": "code",
   "execution_count": null,
   "id": "da3ff9c4",
   "metadata": {},
   "outputs": [],
   "source": [
    "9) Given a list of numbers, write a Python program to find the sum of all the elements in the list."
   ]
  },
  {
   "cell_type": "code",
   "execution_count": 5,
   "id": "89184c71",
   "metadata": {},
   "outputs": [],
   "source": [
    "def sum_of_nums_list(lst):\n",
    "    sum_of_nums = 0\n",
    "    for num in lst:\n",
    "        sum_of_nums += num\n",
    "        \n",
    "    return sum_of_nums"
   ]
  },
  {
   "cell_type": "code",
   "execution_count": 6,
   "id": "c648b87d",
   "metadata": {},
   "outputs": [],
   "source": [
    "result = sum_of_nums_list([10, 12, 13])"
   ]
  },
  {
   "cell_type": "code",
   "execution_count": 7,
   "id": "d707a77e",
   "metadata": {},
   "outputs": [
    {
     "name": "stdout",
     "output_type": "stream",
     "text": [
      "35\n"
     ]
    }
   ],
   "source": [
    "print(result)"
   ]
  },
  {
   "cell_type": "code",
   "execution_count": null,
   "id": "5c54d772",
   "metadata": {},
   "outputs": [],
   "source": [
    "10) Write a Python program to print all even numbers between 10-1000."
   ]
  },
  {
   "cell_type": "code",
   "execution_count": null,
   "id": "70773acd",
   "metadata": {},
   "outputs": [],
   "source": [
    "for num in range(10, 1001):\n",
    "    if num %2 == 0:\n",
    "        print(num)\n",
    "    else:\n",
    "        pass"
   ]
  },
  {
   "cell_type": "code",
   "execution_count": null,
   "id": "69825698",
   "metadata": {},
   "outputs": [],
   "source": [
    "                                                                The End"
   ]
  }
 ],
 "metadata": {
  "kernelspec": {
   "display_name": "Python 3",
   "language": "python",
   "name": "python3"
  },
  "language_info": {
   "codemirror_mode": {
    "name": "ipython",
    "version": 3
   },
   "file_extension": ".py",
   "mimetype": "text/x-python",
   "name": "python",
   "nbconvert_exporter": "python",
   "pygments_lexer": "ipython3",
   "version": "3.8.8"
  }
 },
 "nbformat": 4,
 "nbformat_minor": 5
}
